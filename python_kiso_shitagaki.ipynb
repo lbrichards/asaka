{
 "cells": [
  {
   "cell_type": "code",
   "execution_count": 24,
   "metadata": {
    "collapsed": true
   },
   "outputs": [
    {
     "name": "stdout",
     "output_type": "stream",
     "text": [
      "False\n",
      "0b111\n",
      "0o7\n",
      "0x7\n",
      "140296183274224 140296183274224\n",
      "True\n",
      "True\n",
      "True\n",
      "True\n",
      "abcd-abcd\n",
      "97\n",
      "23433\n",
      "34276\n",
      "安 藤\n",
      "b'\\xe5\\xae\\x89\\xe8\\x97\\xa4'\n",
      "安藤\n",
      "True\n",
      "False\n",
      "True\n",
      "True\n",
      "False\n",
      "False\n",
      "True\n",
      "True\n",
      "True\n",
      "False\n",
      "False\n",
      "False\n"
     ]
    }
   ],
   "source": [
    "\n",
    "# データを含ませるデータ方\n",
    "tuple, list, set, dict\n",
    "\n",
    "\n",
    "\n",
    "#binary and boolean math\n",
    "p = print\n",
    "\n",
    "p(all([True, False, True]))\n",
    "\n",
    "True or False\n",
    "True ^ False\n",
    "True | False\n",
    "\n",
    "\n",
    "# operator precedence!!!!\n",
    "\n",
    "p(bin(7))\n",
    "p(oct(7))\n",
    "p(hex(7))\n",
    "\n",
    "\n",
    "n = 1_000_000 * 5\n",
    "\n",
    "# be careful about non-ascii quotation marks!\n",
    "\n",
    "\"\"\"abcd\"\"\"\n",
    "'''abcd'''\n",
    "\n",
    "s1 = \"abcd\"\n",
    "s2 = 'abcd'\n",
    "print(id(s1), id(s2))\n",
    "print(s1 == s2)\n",
    "print(s1 is s2)\n",
    "\n",
    "print(s1.startswith('ab'))\n",
    "print(s1.endswith('bcd'))\n",
    "\n",
    "print('-'.join([s1,s2]))\n",
    "\n",
    "# ord vs chr\n",
    "print(ord('a'))\n",
    "print(ord('安'))\n",
    "\n",
    "print(ord('藤'))\n",
    "\n",
    "\n",
    "print(chr(23433), chr(34276))\n",
    "print(\"安藤\".encode())\n",
    "print(b'\\xe5\\xae\\x89\\xe8\\x97\\xa4'.decode())\n",
    "\n",
    "T = True\n",
    "F = False\n",
    "vals = [T,F]\n",
    "import operator as op\n",
    "ops = [op.or_, op.xor, op.and_]\n",
    "for op in ops:\n",
    "    for comb in [(T,T), (F,F), (T,F), (F,T)]:\n",
    "        print(op(comb[0], comb[1]))\n",
    "\n",
    "\n",
    "\n",
    "# F strings !!!!\n"
   ]
  },
  {
   "cell_type": "code",
   "execution_count": 24,
   "outputs": [],
   "source": [],
   "metadata": {
    "collapsed": false,
    "pycharm": {
     "name": "#%%\n"
    }
   }
  }
 ],
 "metadata": {
  "kernelspec": {
   "display_name": "Python 3",
   "language": "python",
   "name": "python3"
  },
  "language_info": {
   "codemirror_mode": {
    "name": "ipython",
    "version": 2
   },
   "file_extension": ".py",
   "mimetype": "text/x-python",
   "name": "python",
   "nbconvert_exporter": "python",
   "pygments_lexer": "ipython2",
   "version": "2.7.6"
  }
 },
 "nbformat": 4,
 "nbformat_minor": 0
}